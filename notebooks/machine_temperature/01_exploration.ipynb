{
 "cells": [
  {
   "cell_type": "markdown",
   "metadata": {},
   "source": [
    "# Exploration - Machine Temperature Dataset \n",
    "\n",
    "In this notebook, we conduct an exploratory analysis of the machine temperature dataset from the NAB (Numenta Anomaly Benchmark). The objective is to gain initial insights into the dataset structure and visualize patterns.\n",
    "\n",
    "Goals:\n",
    "- Load the NAB machine temperature series + labeled anomaly windows\n",
    "- Quick EDA: ranges, missing values, sampling interval\n",
    "- Visualize full series with shaded anomaly windows"
   ]
  },
  {
   "cell_type": "markdown",
   "metadata": {},
   "source": [
    "## 1: Setup\n",
    "\n",
    "Import core libraries and helper functions from our \"utils\" module.\n"
   ]
  },
  {
   "cell_type": "code",
   "execution_count": 1,
   "metadata": {},
   "outputs": [],
   "source": [
    "import pandas as pd\n",
    "import numpy as np\n",
    "import matplotlib.pyplot as plt\n",
    "import sys\n",
    "import os\n",
    "import pathlib\n",
    "\n",
    "repo_root = pathlib.Path.cwd().resolve().parents[1]  \n",
    "if str(repo_root) not in sys.path:\n",
    "    sys.path.insert(0, str(repo_root))\n",
    "\n",
    "# utils from this repo\n",
    "from utils.data_loader import load_dataset  # if you added DATASETS registry\n",
    "# fallback if you didn’t add the registry yet:\n",
    "# from utils.data_loader import load_data_and_labels\n",
    "\n",
    "from utils.visualizations import (\n",
    "    plot_full_series_with_windows,\n",
    "    plot_series_with_windows_and_points,\n",
    "    plot_error_and_threshold,\n",
    ")\n",
    "\n",
    "\n",
    "from statsmodels.graphics.tsaplots import plot_acf, plot_pacf # for Autocorrelation\n",
    "\n"
   ]
  },
  {
   "cell_type": "markdown",
   "metadata": {},
   "source": [
    "## 2: Load the Machine Temperature Dataset\n",
    "\n"
   ]
  },
  {
   "cell_type": "code",
   "execution_count": 2,
   "metadata": {},
   "outputs": [
    {
     "data": {
      "text/html": [
       "<div>\n",
       "<style scoped>\n",
       "    .dataframe tbody tr th:only-of-type {\n",
       "        vertical-align: middle;\n",
       "    }\n",
       "\n",
       "    .dataframe tbody tr th {\n",
       "        vertical-align: top;\n",
       "    }\n",
       "\n",
       "    .dataframe thead th {\n",
       "        text-align: right;\n",
       "    }\n",
       "</style>\n",
       "<table border=\"1\" class=\"dataframe\">\n",
       "  <thead>\n",
       "    <tr style=\"text-align: right;\">\n",
       "      <th></th>\n",
       "      <th>value</th>\n",
       "    </tr>\n",
       "    <tr>\n",
       "      <th>timestamp</th>\n",
       "      <th></th>\n",
       "    </tr>\n",
       "  </thead>\n",
       "  <tbody>\n",
       "    <tr>\n",
       "      <th>2013-12-02 21:15:00</th>\n",
       "      <td>73.967322</td>\n",
       "    </tr>\n",
       "    <tr>\n",
       "      <th>2013-12-02 21:20:00</th>\n",
       "      <td>74.935882</td>\n",
       "    </tr>\n",
       "    <tr>\n",
       "      <th>2013-12-02 21:25:00</th>\n",
       "      <td>76.124162</td>\n",
       "    </tr>\n",
       "    <tr>\n",
       "      <th>2013-12-02 21:30:00</th>\n",
       "      <td>78.140707</td>\n",
       "    </tr>\n",
       "    <tr>\n",
       "      <th>2013-12-02 21:35:00</th>\n",
       "      <td>79.329836</td>\n",
       "    </tr>\n",
       "  </tbody>\n",
       "</table>\n",
       "</div>"
      ],
      "text/plain": [
       "                         value\n",
       "timestamp                     \n",
       "2013-12-02 21:15:00  73.967322\n",
       "2013-12-02 21:20:00  74.935882\n",
       "2013-12-02 21:25:00  76.124162\n",
       "2013-12-02 21:30:00  78.140707\n",
       "2013-12-02 21:35:00  79.329836"
      ]
     },
     "execution_count": 2,
     "metadata": {},
     "output_type": "execute_result"
    }
   ],
   "source": [
    "df, anomaly_windows = load_dataset(\"machine_temperature\")\n",
    "df.head()\n"
   ]
  },
  {
   "cell_type": "markdown",
   "metadata": {},
   "source": [
    "## 3: Dataset Overview\n",
    "\n",
    "Check the shape, time range, column names, and missing values.  \n"
   ]
  },
  {
   "cell_type": "code",
   "execution_count": 3,
   "metadata": {},
   "outputs": [
    {
     "name": "stdout",
     "output_type": "stream",
     "text": [
      "Shape: (22695, 1)\n",
      "Time range: 2013-12-02 21:15:00 → 2014-02-19 15:25:00\n",
      "Columns: ['value']\n",
      "\n",
      ".describe():\n"
     ]
    },
    {
     "data": {
      "text/html": [
       "<div>\n",
       "<style scoped>\n",
       "    .dataframe tbody tr th:only-of-type {\n",
       "        vertical-align: middle;\n",
       "    }\n",
       "\n",
       "    .dataframe tbody tr th {\n",
       "        vertical-align: top;\n",
       "    }\n",
       "\n",
       "    .dataframe thead th {\n",
       "        text-align: right;\n",
       "    }\n",
       "</style>\n",
       "<table border=\"1\" class=\"dataframe\">\n",
       "  <thead>\n",
       "    <tr style=\"text-align: right;\">\n",
       "      <th></th>\n",
       "      <th>value</th>\n",
       "    </tr>\n",
       "  </thead>\n",
       "  <tbody>\n",
       "    <tr>\n",
       "      <th>count</th>\n",
       "      <td>22695.000000</td>\n",
       "    </tr>\n",
       "    <tr>\n",
       "      <th>mean</th>\n",
       "      <td>85.926498</td>\n",
       "    </tr>\n",
       "    <tr>\n",
       "      <th>std</th>\n",
       "      <td>13.746912</td>\n",
       "    </tr>\n",
       "    <tr>\n",
       "      <th>min</th>\n",
       "      <td>2.084721</td>\n",
       "    </tr>\n",
       "    <tr>\n",
       "      <th>25%</th>\n",
       "      <td>83.080078</td>\n",
       "    </tr>\n",
       "    <tr>\n",
       "      <th>50%</th>\n",
       "      <td>89.408246</td>\n",
       "    </tr>\n",
       "    <tr>\n",
       "      <th>75%</th>\n",
       "      <td>94.016252</td>\n",
       "    </tr>\n",
       "    <tr>\n",
       "      <th>max</th>\n",
       "      <td>108.510543</td>\n",
       "    </tr>\n",
       "  </tbody>\n",
       "</table>\n",
       "</div>"
      ],
      "text/plain": [
       "              value\n",
       "count  22695.000000\n",
       "mean      85.926498\n",
       "std       13.746912\n",
       "min        2.084721\n",
       "25%       83.080078\n",
       "50%       89.408246\n",
       "75%       94.016252\n",
       "max      108.510543"
      ]
     },
     "metadata": {},
     "output_type": "display_data"
    },
    {
     "name": "stdout",
     "output_type": "stream",
     "text": [
      "\n",
      "Missing values by column:\n",
      " value    0\n",
      "dtype: int64\n"
     ]
    }
   ],
   "source": [
    "print(\"Shape:\", df.shape)\n",
    "print(\"Time range:\", df.index.min(), \"→\", df.index.max())\n",
    "print(\"Columns:\", list(df.columns))\n",
    "\n",
    "print(\"\\n.describe():\")\n",
    "display(df.describe())\n",
    "\n",
    "\n",
    "print(\"\\nMissing values by column:\\n\", df.isna().sum())\n"
   ]
  },
  {
   "cell_type": "markdown",
   "metadata": {},
   "source": [
    "## 4: Plot Full Series with Labeled Anomalies\n",
    "\n",
    "Plot the machine temperature and overlay NAB anomaly windows as shaded regions.\n"
   ]
  },
  {
   "cell_type": "code",
   "execution_count": 4,
   "metadata": {},
   "outputs": [
    {
     "data": {
      "image/png": "[encoded data removed]",
      "text/plain": [
       "<Figure size 1000x400 with 1 Axes>"
      ]
     },
     "metadata": {},
     "output_type": "display_data"
    }
   ],
   "source": [
    "plt.figure(figsize=(10,4))\n",
    "plt.hist(df[\"value\"].dropna(), bins=50, alpha=0.7, density=True)\n",
    "plt.title(\"Distribution of Machine Temperature\")\n",
    "plt.xlabel(\"Temperature (°C)\"); plt.ylabel(\"Density\")\n",
    "plt.grid(True); plt.tight_layout(); plt.show()\n"
   ]
  },
  {
   "cell_type": "markdown",
   "metadata": {},
   "source": [
    "## 5: Distribution of Values\n",
    "\n",
    "We plot a histogram to see the distribution of machine temperature values.\n"
   ]
  },
  {
   "cell_type": "code",
   "execution_count": 5,
   "metadata": {},
   "outputs": [
    {
     "data": {
      "image/png": "[encoded data removed]",
      "text/plain": [
       "<Figure size 1000x400 with 1 Axes>"
      ]
     },
     "metadata": {},
     "output_type": "display_data"
    }
   ],
   "source": [
    "plt.figure(figsize=(10,4))\n",
    "plt.hist(df[\"value\"].dropna(), bins=50, alpha=0.7, density=True)\n",
    "plt.title(\"Distribution of Machine Temperature\")\n",
    "plt.xlabel(\"Temperature (°C)\"); plt.ylabel(\"Density\")\n",
    "plt.grid(True); plt.tight_layout(); plt.show()"
   ]
  },
  {
   "cell_type": "code",
   "execution_count": 6,
   "metadata": {},
   "outputs": [
    {
     "data": {
      "image/png": "[encoded data removed]",
      "text/plain": [
       "<Figure size 1200x400 with 2 Axes>"
      ]
     },
     "metadata": {},
     "output_type": "display_data"
    }
   ],
   "source": [
    "sample = df[\"value\"].dropna()\n",
    "max_lags = 60\n",
    "\n",
    "fig, axes = plt.subplots(1, 2, figsize=(12,4))\n",
    "plot_acf(sample, ax=axes[0], lags=max_lags, zero=False)\n",
    "axes[0].set_title(\"ACF\")\n",
    "plot_pacf(sample, ax=axes[1], lags=max_lags, zero=False, method=\"ywm\")\n",
    "axes[1].set_title(\"PACF\")\n",
    "plt.tight_layout(); plt.show()\n"
   ]
  },
  {
   "cell_type": "code",
   "execution_count": 7,
   "metadata": {
    "execution": {
     "iopub.execute_input": "2025-08-04T16:00:32.315827Z",
     "iopub.status.busy": "2025-08-04T16:00:32.315064Z",
     "iopub.status.idle": "2025-08-04T16:00:32.780235Z",
     "shell.execute_reply": "2025-08-04T16:00:32.779173Z",
     "shell.execute_reply.started": "2025-08-04T16:00:32.315790Z"
    },
    "trusted": true
   },
   "outputs": [
    {
     "ename": "NameError",
     "evalue": "name 'requests' is not defined",
     "output_type": "error",
     "traceback": [
      "\u001b[31m---------------------------------------------------------------------------\u001b[39m",
      "\u001b[31mNameError\u001b[39m                                 Traceback (most recent call last)",
      "\u001b[36mCell\u001b[39m\u001b[36m \u001b[39m\u001b[32mIn[7]\u001b[39m\u001b[32m, line 9\u001b[39m\n\u001b[32m      7\u001b[39m \u001b[38;5;66;03m# Load labeled anomaly windows from NAB\u001b[39;00m\n\u001b[32m      8\u001b[39m url = \u001b[33m\"\u001b[39m\u001b[33mhttps://raw.githubusercontent.com/numenta/NAB/master/labels/combined_windows.json\u001b[39m\u001b[33m\"\u001b[39m\n\u001b[32m----> \u001b[39m\u001b[32m9\u001b[39m response = \u001b[43mrequests\u001b[49m.get(url)\n\u001b[32m     10\u001b[39m labels = response.json()\n\u001b[32m     12\u001b[39m \u001b[38;5;66;03m# Extract windows for our dataset\u001b[39;00m\n",
      "\u001b[31mNameError\u001b[39m: name 'requests' is not defined"
     ]
    }
   ],
   "source": [
    "# load data\n",
    "url = \"https://raw.githubusercontent.com/hjalalin/nab-anomaly-detection/main/data/realKnownCause/machine_temperature_system_failure.csv\"\n",
    "df = pd.read_csv(url)\n",
    "df['timestamp'] = pd.to_datetime(df['timestamp'])\n",
    "df.set_index('timestamp', inplace=True)\n",
    "\n",
    "# Load labeled anomaly windows from NAB\n",
    "url = \"https://raw.githubusercontent.com/numenta/NAB/master/labels/combined_windows.json\"\n",
    "response = requests.get(url)\n",
    "labels = response.json()\n",
    "\n",
    "# Extract windows for our dataset\n",
    "label_key = \"realKnownCause/machine_temperature_system_failure.csv\"\n",
    "anomaly_windows = [\n",
    "    (pd.to_datetime(start), pd.to_datetime(end))\n",
    "    for start, end in labels[label_key]\n",
    "]"
   ]
  },
  {
   "cell_type": "markdown",
   "metadata": {},
   "source": [
    "Normal readings (blue) dominate the histogram, with most values clustered between 80°C and 100°C. The overall distribution of temperature readings in normal conditon is left-skewed, with a noticeable tail toward lower temperatures. Some of these low-temperature readings during normal operation may indicate equipment shutdowns, startup phases, or sensor artifacts, and do not necessarily indicate system faults.\n",
    "Failure-period readings (salmon) are concentrated more heavily in the lower temperature range, reflecting sudden drops commonly associated with known system failures.\n",
    "However, there is significant overlap between normal and failure-period temperature values, indicating that temperature alone is not a sufficient indicator of failure. While many failures coincide with low-temperature readings, similar drops can also occur under normal conditions. "
   ]
  }
 ],
 "metadata": {
  "kaggle": {
   "accelerator": "none",
   "dataSources": [
    {
     "datasetId": 110,
     "sourceId": 240,
     "sourceType": "datasetVersion"
    }
   ],
   "dockerImageVersionId": 31089,
   "isGpuEnabled": false,
   "isInternetEnabled": true,
   "language": "python",
   "sourceType": "notebook"
  },
  "kernelspec": {
   "display_name": "Python 3",
   "language": "python",
   "name": "python3"
  },
  "language_info": {
   "codemirror_mode": {
    "name": "ipython",
    "version": 3
   },
   "file_extension": ".py",
   "mimetype": "text/x-python",
   "name": "python",
   "nbconvert_exporter": "python",
   "pygments_lexer": "ipython3",
   "version": "3.13.7"
  }
 },
 "nbformat": 4,
 "nbformat_minor": 4
}
