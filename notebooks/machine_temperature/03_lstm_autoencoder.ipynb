{
  "cells": [
    {
      "cell_type": "markdown",
      "metadata": {},
      "source": [
        "# Deep Learning for Anomaly Detection on Machine Temperature Data\n",
        "\n",
        "This notebook demonstrates how to build and evaluate an LSTM Autoencoder for anomaly detection using the NAB machine temperature dataset.  \n",
        "The model is trained on normal operating data and uses reconstruction errors to flag anomalies.  \n",
        "Evaluation covers both point-level detection accuracy and anomaly window–based metrics, reflecting industrial needs for early fault detection.\n"
      ]
    },
    {
      "cell_type": "markdown",
      "id": "4023911d",
      "metadata": {},
      "source": [
        "## Setup"
      ]
    },
    {
      "cell_type": "code",
      "execution_count": 21,
      "metadata": {},
      "outputs": [],
      "source": [
        "import numpy as np\n",
        "import pandas as pd\n",
        "import matplotlib.pyplot as plt\n",
        "import torch\n",
        "import sys\n",
        "import os\n",
        "import pathlib\n",
        "\n",
        "\n",
        "repo_root = pathlib.Path.cwd().resolve().parents[1]  \n",
        "if str(repo_root) not in sys.path:\n",
        "    sys.path.insert(0, str(repo_root))\n",
        "\n",
        "from configs.config import DEFAULTS\n",
        "from src.data_loader import load_dataset\n",
        "from src.detectors_dl import train_autoencoder, ae_scores, windows_to_pointwise_last\n",
        "from src.visualizations import plot_methods_subplots, shade_windows\n",
        "from src.evaluation import evaluate_predictions\n"
      ]
    },
    {
      "cell_type": "code",
      "execution_count": 22,
      "id": "fcfec97c",
      "metadata": {},
      "outputs": [
        {
          "data": {
            "text/plain": [
              "<torch._C.Generator at 0x1273b5cf090>"
            ]
          },
          "execution_count": 22,
          "metadata": {},
          "output_type": "execute_result"
        }
      ],
      "source": [
        "torch.manual_seed(42)"
      ]
    },
    {
      "cell_type": "code",
      "execution_count": 23,
      "id": "e80f25cf",
      "metadata": {},
      "outputs": [],
      "source": [
        "dfs, merged, windows = load_dataset(\"machine_temperature\")\n",
        "df = dfs[0]"
      ]
    },
    {
      "cell_type": "markdown",
      "id": "1c262065",
      "metadata": {},
      "source": [
        "## Preprocessing\n",
        "\n",
        "Time-series data is transformed into sliding windows of fixed length to capture temporal dependencies.  "
      ]
    },
    {
      "cell_type": "markdown",
      "id": "28d80d46",
      "metadata": {},
      "source": [
        "### Time-based spliting\n",
        "Data is split into train, validation, and test segments by timestamp.  \n",
        "A strict chronological split avoids look-ahead bias, ensuring that test performance reflects generalization to future data."
      ]
    },
    {
      "cell_type": "code",
      "execution_count": 24,
      "id": "d9acbcd7",
      "metadata": {},
      "outputs": [],
      "source": [
        "# Split by time (60/20/20) to simulate realistic streaming\n",
        "n = len(df)\n",
        "t1 = int(0.6 * n)\n",
        "t2 = int(0.8 * n)\n",
        "\n",
        "train_df = df.iloc[:t1].copy()\n",
        "val_df   = df.iloc[t1:t2].copy()\n",
        "test_df  = df.iloc[t2:].copy()"
      ]
    },
    {
      "cell_type": "markdown",
      "id": "6d6bf3bb",
      "metadata": {},
      "source": [
        "### Excluding anomalies from trainign\n",
        "The model is trained only on normal segments (outside failure windows). This ensures the autoencoder is trained solely on normal, healthy behavior, preventing it from learning patterns associated with failures and preserving the model’s ability to generalize to unseen anomalies.\n"
      ]
    },
    {
      "cell_type": "code",
      "execution_count": 25,
      "id": "ab0a1b1a",
      "metadata": {},
      "outputs": [],
      "source": [
        "def in_any_failure_window(ts, windows):\n",
        "    for s, e in windows:\n",
        "        if s <= ts <= e:\n",
        "            return True\n",
        "    return False\n",
        "\n",
        "# Mark timestamps inside windows\n",
        "train_df[\"in_window\"] = train_df[\"timestamp\"].apply(lambda t: in_any_failure_window(t, windows))\n",
        "val_df[\"in_window\"] = val_df[\"timestamp\"].apply(lambda t: in_any_failure_window(t, windows))\n",
        "test_df[\"in_window\"] = test_df[\"timestamp\"].apply(lambda t: in_any_failure_window(t, windows))"
      ]
    },
    {
      "cell_type": "markdown",
      "id": "e8db22db",
      "metadata": {},
      "source": [
        "### Sequences\n",
        "The time series is converted into fixed-length windows to provide temporal context.  \n",
        "- **Window length (T)**: defines the temporal horizon of patterns captured.  \n",
        "  - Short windows → fine-grained detection, but less stability.  \n",
        "  - Long windows → smoother errors, but risk delayed detection.  "
      ]
    },
    {
      "cell_type": "code",
      "execution_count": 26,
      "id": "9a021b72",
      "metadata": {},
      "outputs": [],
      "source": [
        "def make_sequences(df, seq_len, value_col, use_only_normal=True):\n",
        "    x = df[value_col].to_numpy(dtype=np.float32)\n",
        "    ts = df[\"timestamp\"].to_numpy()\n",
        "    inw = df[\"in_window\"].to_numpy(dtype=bool)\n",
        "\n",
        "    seqs = []\n",
        "    idxs = []\n",
        "    for i in range(len(df) - seq_len + 1):\n",
        "        seg_inw = inw[i:i+seq_len]\n",
        "        if use_only_normal and seg_inw.any():\n",
        "            continue\n",
        "        seq = x[i:i+seq_len].copy()\n",
        "        seqs.append(seq[:, None])  # shape (seq_len, 1)\n",
        "        idxs.append(i + seq_len - 1)  # align to last timestamp for scoring\n",
        "    return np.stack(seqs) if len(seqs)>0 else np.empty((0, seq_len, 1), dtype=np.float32), np.array(idxs)"
      ]
    },
    {
      "cell_type": "code",
      "execution_count": 27,
      "id": "f9e75415",
      "metadata": {},
      "outputs": [
        {
          "name": "stdout",
          "output_type": "stream",
          "text": [
            "Train seqs: (12186, 100, 1) Val seqs: (3774, 100, 1) Test seqs: (4440, 100, 1)\n"
          ]
        }
      ],
      "source": [
        "SEQ_LEN = DEFAULTS['dl']['autoencoder']['seq_len']\n",
        "Xtr, tr_idx = make_sequences(train_df, SEQ_LEN, value_col ='machine_temperature_system_failure', use_only_normal=True)\n",
        "Xva, va_idx = make_sequences(val_df,   SEQ_LEN, value_col ='machine_temperature_system_failure', use_only_normal=True)\n",
        "Xte, te_idx = make_sequences(test_df,  SEQ_LEN, value_col ='machine_temperature_system_failure', use_only_normal=False)\n",
        "\n",
        "print(\"Train seqs:\", Xtr.shape, \"Val seqs:\", Xva.shape, \"Test seqs:\", Xte.shape)"
      ]
    },
    {
      "cell_type": "markdown",
      "id": "e08686af",
      "metadata": {},
      "source": [
        "### Feature scaling\n",
        "Scaling is applied to stabilize training and prevent large-valued features from dominating the loss.  \n",
        "- Mean/standard deviation are computed **only on the training set** (normal data only) and applied to all splits.  \n",
        "- Using statistics from the full dataset or from windows containing anomalies would introduce information leakage.  \n"
      ]
    },
    {
      "cell_type": "code",
      "execution_count": 28,
      "id": "c0b89c59",
      "metadata": {},
      "outputs": [
        {
          "data": {
            "text/plain": [
              "(np.float32(88.56737), np.float32(9.100278))"
            ]
          },
          "execution_count": 28,
          "metadata": {},
          "output_type": "execute_result"
        }
      ],
      "source": [
        "# Standardize using training stats\n",
        "mu = Xtr.mean()\n",
        "sd = Xtr.std() if Xtr.std() > 0 else 1.0\n",
        "Xtr_n = (Xtr - mu)/sd\n",
        "Xva_n = (Xva - mu)/sd\n",
        "Xte_n = (Xte - mu)/sd\n",
        "mu, sd"
      ]
    },
    {
      "cell_type": "markdown",
      "id": "515dc04a",
      "metadata": {},
      "source": [
        "## Model Architecture and Training\n",
        "The LSTM Autoencoder is designed to capture temporal dynamics in the machine temperature dataset.  \n",
        "- The **encoder** compresses each input sequence into a low-dimensional latent representation, forcing the model to extract the most informative features.  \n",
        "- The **decoder** reconstructs the sequence from this latent space, enabling a direct comparison between expected and actual patterns.  \n",
        "\n",
        "\n",
        "### Configurations\n",
        "The configuration is printed below, and each setting has a specific role. \n",
        "- The length of the input sequence decides how much history the model sees: shorter sequences make the model more responsive, while longer ones give it more stability. \n",
        "- The batch size controls how many sequences are processed at once, which affects both training speed and how smooth the learning is.\n",
        "- The size of the hidden layer shows how much detail the model can capture, and the depth of the network decides how complex the learned patterns can be. \n",
        "- Dropout is used to reduce overfitting. \n",
        "- The number of training epochs limits how long the model runs, and early stopping ends training when improvements stop.  \n",
        "\n"
      ]
    },
    {
      "cell_type": "code",
      "execution_count": 29,
      "id": "cd2bdaf0",
      "metadata": {},
      "outputs": [
        {
          "name": "stdout",
          "output_type": "stream",
          "text": [
            "LSTM Autoencoder Configuration:\n",
            "  Sequence length   : 100\n",
            "  Batch size        : 32\n",
            "  Hidden units      : 64\n",
            "  Layers            : 2\n",
            "  Dropout           : 0.1\n",
            "  Weight decay      : 0.0\n",
            "  Learning rate     : 0.001\n",
            "  Epochs (max)      : 50\n",
            "  Early stop patience: 5\n"
          ]
        }
      ],
      "source": [
        "cfg = DEFAULTS \n",
        "\n",
        "SEQ_LEN = cfg[\"dl\"][\"autoencoder\"][\"seq_len\"] \n",
        "BATCH = cfg[\"dl\"][\"autoencoder\"][\"batch_size\"] \n",
        "EPOCHS = cfg[\"dl\"][\"autoencoder\"][\"epochs\"] \n",
        "HID = cfg[\"dl\"][\"autoencoder\"][\"hidden\"] \n",
        "LAYERS = cfg[\"dl\"][\"autoencoder\"][\"layers\"] \n",
        "DROP = cfg[\"dl\"][\"autoencoder\"][\"dropout\"] \n",
        "DECAY = cfg[\"dl\"][\"autoencoder\"][\"weight_decay\"] \n",
        "LR = cfg[\"dl\"][\"autoencoder\"][\"lr\"] \n",
        "EPOCHS = cfg[\"dl\"][\"autoencoder\"][\"epochs\"] \n",
        "PATIENCE = cfg[\"dl\"][\"autoencoder\"][\"patience\"]\n",
        "\n",
        "print(\n",
        "    \"LSTM Autoencoder Configuration:\\n\"\n",
        "    f\"  Sequence length   : {SEQ_LEN}\\n\"\n",
        "    f\"  Batch size        : {BATCH}\\n\"\n",
        "    f\"  Hidden units      : {HID}\\n\"\n",
        "    f\"  Layers            : {LAYERS}\\n\"\n",
        "    f\"  Dropout           : {DROP}\\n\"\n",
        "    f\"  Weight decay      : {DECAY}\\n\"\n",
        "    f\"  Learning rate     : {LR}\\n\"\n",
        "    f\"  Epochs (max)      : {EPOCHS}\\n\"\n",
        "    f\"  Early stop patience: {PATIENCE}\"\n",
        ")\n"
      ]
    },
    {
      "cell_type": "markdown",
      "id": "17fd1ea7",
      "metadata": {},
      "source": [
        "### Training\n",
        "\n",
        "`train_autoencoder` fits an LSTM autoencoder on normalized training sequences and tracks validation loss for early stopping and configuration-driven tuning.  "
      ]
    },
    {
      "cell_type": "code",
      "execution_count": 30,
      "metadata": {},
      "outputs": [
        {
          "name": "stdout",
          "output_type": "stream",
          "text": [
            "Epoch 1/50 | train=0.912778 val=1.518179\n",
            "Epoch 2/50 | train=0.494936 val=0.968663\n",
            "Epoch 3/50 | train=0.373509 val=0.860706\n",
            "Epoch 4/50 | train=0.325855 val=0.796877\n",
            "Epoch 5/50 | train=0.290097 val=0.774191\n",
            "Epoch 6/50 | train=0.262290 val=0.758486\n",
            "Epoch 7/50 | train=0.243599 val=0.748809\n",
            "Epoch 8/50 | train=0.233895 val=0.743446\n",
            "Epoch 9/50 | train=0.229746 val=0.739711\n",
            "Epoch 10/50 | train=0.227000 val=0.736867\n",
            "Epoch 11/50 | train=0.225171 val=0.734928\n",
            "Epoch 12/50 | train=0.223870 val=0.733928\n",
            "Epoch 13/50 | train=0.222841 val=0.732532\n",
            "Epoch 14/50 | train=0.222115 val=0.731753\n",
            "Epoch 15/50 | train=0.221362 val=0.731294\n",
            "Epoch 16/50 | train=0.220852 val=0.730920\n",
            "Epoch 17/50 | train=0.220454 val=0.729865\n",
            "Epoch 18/50 | train=0.220190 val=0.729223\n",
            "Epoch 19/50 | train=0.219788 val=0.729237\n",
            "Epoch 20/50 | train=0.219459 val=0.728925\n",
            "Epoch 21/50 | train=0.219345 val=0.728909\n",
            "Epoch 22/50 | train=0.219259 val=0.728198\n",
            "Epoch 23/50 | train=0.219068 val=0.728052\n",
            "Epoch 24/50 | train=0.218847 val=0.727904\n",
            "Epoch 25/50 | train=0.218714 val=0.728142\n",
            "Epoch 26/50 | train=0.218626 val=0.727862\n",
            "Epoch 27/50 | train=0.218534 val=0.727388\n",
            "Epoch 28/50 | train=0.218455 val=0.727770\n",
            "Epoch 29/50 | train=0.218338 val=0.727538\n",
            "Epoch 30/50 | train=0.218260 val=0.727591\n",
            "Epoch 31/50 | train=0.218280 val=0.727325\n",
            "Epoch 32/50 | train=0.218157 val=0.727273\n",
            "Epoch 33/50 | train=0.218122 val=0.727245\n",
            "Epoch 34/50 | train=0.218125 val=0.727302\n",
            "Epoch 35/50 | train=0.218051 val=0.727589\n",
            "Epoch 36/50 | train=0.218049 val=0.727214\n",
            "Epoch 37/50 | train=0.217961 val=0.727506\n",
            "Epoch 38/50 | train=0.218012 val=0.727191\n",
            "Epoch 39/50 | train=0.217952 val=0.727376\n",
            "Epoch 40/50 | train=0.217949 val=0.727296\n",
            "Epoch 41/50 | train=0.217883 val=0.727056\n",
            "Epoch 42/50 | train=0.217857 val=0.727101\n",
            "Epoch 43/50 | train=0.217881 val=0.727737\n",
            "Epoch 44/50 | train=0.217893 val=0.727064\n",
            "Epoch 45/50 | train=0.217898 val=0.727370\n",
            "Epoch 46/50 | train=0.217870 val=0.727323\n",
            "Early stopping.\n"
          ]
        }
      ],
      "source": [
        "n_features = 1 # univariate time series\n",
        "model, history = train_autoencoder(Xtr_n, Xva_n, n_features, cfg['dl']['autoencoder'], verbose=True)"
      ]
    },
    {
      "cell_type": "markdown",
      "id": "e8140bbd",
      "metadata": {},
      "source": [
        "## Evaluation and Results\n",
        "\n",
        "Reconstruction error is used as the anomaly score.  \n",
        "Normal sequences have low errors, while anomalous sequences produce higher values.  "
      ]
    },
    {
      "cell_type": "markdown",
      "id": "1be0f045",
      "metadata": {},
      "source": [
        "### Threshold selection\n",
        "\n",
        "Validation sequences are scored with the last_t reduction, assigning each sequence’s error to its final timestep.  \n",
        "A high-quantile cutoff from the validation distribution is chosen as the operating threshold and then applied to the test scores.\n"
      ]
    },
    {
      "cell_type": "code",
      "execution_count": 31,
      "id": "d3bb6f78",
      "metadata": {},
      "outputs": [
        {
          "name": "stdout",
          "output_type": "stream",
          "text": [
            "Threshold:  5.8947096\n"
          ]
        }
      ],
      "source": [
        "REDUCE = 'last_t'\n",
        "\n",
        "# score validation windows and pick a high-quantile\n",
        "val_scores = ae_scores(model, Xva_n, cfg, reduce=REDUCE)   \n",
        "thr = np.quantile(val_scores, 0.95) \n",
        "\n",
        "print('Threshold: ', thr)"
      ]
    },
    {
      "cell_type": "markdown",
      "id": "5b6b86d7",
      "metadata": {},
      "source": [
        "### Anomaly detection on the test set\n",
        "\n",
        "The above threshold applied to the test scores to produce a boolean anomaly series, where values above the cutoff are marked as anomalies. Because last_t aligns detections to the sequence end."
      ]
    },
    {
      "cell_type": "code",
      "execution_count": 32,
      "id": "52c1949b",
      "metadata": {},
      "outputs": [],
      "source": [
        "test_scores = ae_scores(model, Xte_n, cfg, reduce=REDUCE)   \n",
        "test_anomay_mask = (test_scores > thr).astype(bool)"
      ]
    },
    {
      "cell_type": "markdown",
      "id": "4903e7ef",
      "metadata": {},
      "source": [
        "The predicted anomaly mask is plotted with the labeled failure interval."
      ]
    },
    {
      "cell_type": "code",
      "execution_count": 33,
      "id": "f46ab9e7",
      "metadata": {},
      "outputs": [
        {
          "data": {
            "image/png": "[encoded data removed]",
            "text/plain": [
              "<Figure size 1400x300 with 1 Axes>"
            ]
          },
          "metadata": {},
          "output_type": "display_data"
        }
      ],
      "source": [
        "methods_preds = {'LSTM Autoencoder': test_anomay_mask}\n",
        "plot_methods_subplots(test_df, methods_preds, offset =t2, value_col=\"machine_temperature_system_failure\", windows=windows)"
      ]
    },
    {
      "cell_type": "markdown",
      "id": "f3c50c15",
      "metadata": {},
      "source": [
        "The above plot overlays the predicted anomaly markers (red points) on the measured temperature series, with the labeled failure interval shown as a shaded band.  \n",
        "Detections cluster inside the shaded interval, indicating good coverage during the failure period.  \n",
        "No markers appear far before the onset, so early warnings are limited to near-onset behavior in this run.  \n"
      ]
    },
    {
      "cell_type": "code",
      "execution_count": 34,
      "id": "208d85c7",
      "metadata": {},
      "outputs": [],
      "source": [
        "test_preds = [False] * len(test_df)\n",
        "test_preds[SEQ_LEN-1:] = test_anomay_mask"
      ]
    },
    {
      "cell_type": "code",
      "execution_count": 35,
      "id": "9efcc19e",
      "metadata": {},
      "outputs": [
        {
          "name": "stdout",
          "output_type": "stream",
          "text": [
            "                     tp   fp    fn      tn  precision  recall     f1  \\\n",
            "LSTM Autoencoder  539.0  1.0  28.0  3971.0      0.998   0.951  0.974   \n",
            "\n",
            "                  anomaly_window_detection_rate  early_detection_rate  \n",
            "LSTM Autoencoder                            1.0                   1.0  \n"
          ]
        }
      ],
      "source": [
        "eval_results = {'LSTM Autoencoder': evaluate_predictions(test_df, test_preds , windows, early_tolerance=\"5h\")}        \n",
        "print(pd.DataFrame(eval_results).T.round(3))"
      ]
    },
    {
      "cell_type": "markdown",
      "id": "ac07d561",
      "metadata": {},
      "source": [
        "Point-level results show near-perfect precision with high recall, indicating very few false alarms and only a small number of missed anomaly points. The combined F1 score reflects strong overall separation between normal and abnormal behavior. \n",
        "\n",
        "At the window level, the single labeled failure interval is detected on time, providing full coverage under the chosen early-tolerance setting."
      ]
    }
  ],
  "metadata": {
    "kernelspec": {
      "display_name": "Python 3",
      "language": "python",
      "name": "python3"
    },
    "language_info": {
      "codemirror_mode": {
        "name": "ipython",
        "version": 3
      },
      "file_extension": ".py",
      "mimetype": "text/x-python",
      "name": "python",
      "nbconvert_exporter": "python",
      "pygments_lexer": "ipython3",
      "version": "3.13.7"
    }
  },
  "nbformat": 4,
  "nbformat_minor": 5
}
